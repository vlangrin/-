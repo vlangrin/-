{
 "cells": [
  {
   "cell_type": "markdown",
   "id": "4718fbeb",
   "metadata": {},
   "source": [
    "# Кафедра математической кибернетики и информационных технологий\n",
    "# Курсовая работа\n",
    "# по дисциплине Структуры и алгоритмы обработки данных\n",
    "## Выполнил: студент группы БФИ1901 Власенко Г.Г.\n",
    "## Проверил: Кутейников И.А."
   ]
  },
  {
   "cell_type": "markdown",
   "id": "8b6820d9",
   "metadata": {},
   "source": [
    "## Ход работы"
   ]
  },
  {
   "cell_type": "markdown",
   "id": "5f75d8a0",
   "metadata": {},
   "source": [
    "### Задача \"Треугольник с максимальным периметром\"\n",
    "Массив A состоит из целых положительных чисел длин отрезков. Составьте из трех отрезков такой треугольник, чтобы его периметр был максимально возможным. Если невозможно составить треугольник с положительной площадью функция возвращает 0."
   ]
  },
  {
   "cell_type": "code",
   "execution_count": 21,
   "id": "0c317e0a",
   "metadata": {},
   "outputs": [
    {
     "name": "stdout",
     "output_type": "stream",
     "text": [
      "Периметр треугольника = 10\n"
     ]
    }
   ],
   "source": [
    "a = [3,2,3,4]\n",
    "a.sort(reverse=True)\n",
    "j = 0\n",
    "while True:\n",
    "    a_1 = a[j]\n",
    "    a_2 = a[j + 1]\n",
    "    try:\n",
    "        if a_1 + a_2 > a[j + 2] and a_2 + a[j + 2] > a_1 and a_1 + a[j + 2] > a_2:\n",
    "            a_3 = a[j + 2]\n",
    "            print(\"Периметр треугольника =\", a_1 + a_2 + a_3)\n",
    "            break\n",
    "    except Error:\n",
    "        print(\"Невозможно найти периметр\")\n",
    "        break\n",
    "    j+=1"
   ]
  },
  {
   "cell_type": "markdown",
   "id": "07136611",
   "metadata": {},
   "source": [
    "### Задача «Максимальное число»\n",
    "Дан массив неотрицательных целых чисел nums. Расположите их в таком порядке, чтобы вместе они образовали максимально возможное число."
   ]
  },
  {
   "cell_type": "code",
   "execution_count": 22,
   "id": "a77ffa38",
   "metadata": {},
   "outputs": [
    {
     "name": "stdout",
     "output_type": "stream",
     "text": [
      "92754341\n"
     ]
    }
   ],
   "source": [
    "nums = [5, 4, 34, 7, 92, 1]\n",
    "max_len = len(str(max(nums)))\n",
    "nums = [str(i) for i in nums]\n",
    "def change_elem(s):\n",
    "    return s + s[-1] * (max_len - len(s))\n",
    "sort_list = sorted(nums, key=change_elem, reverse=True)\n",
    "\n",
    "print(''.join(sort_list))"
   ]
  },
  {
   "cell_type": "markdown",
   "id": "8bc3be8a",
   "metadata": {},
   "source": [
    "### Задача «Сортировка диагоналей в матрице»\n",
    "Дана матрица mat размером m * n, значения целочисленные. Напишите функцию, сортирующую каждую диагональ матрицы по возрастанию и возвращающую получившуюся матрицу."
   ]
  },
  {
   "cell_type": "code",
   "execution_count": 23,
   "id": "7cf85a0b",
   "metadata": {},
   "outputs": [
    {
     "name": "stdout",
     "output_type": "stream",
     "text": [
      "mat:\n",
      "[3, 3, 1, 1]\n",
      "[2, 2, 1, 2]\n",
      "[1, 1, 1, 2]\n",
      "\n",
      "Sorted: \n",
      "[1, 1, 1, 1]\n",
      "[1, 2, 2, 2]\n",
      "[1, 2, 3, 3]\n",
      "\n",
      "mat:\n",
      "[11, 25, 66, 1, 69, 7]\n",
      "[23, 55, 17, 45, 15, 52]\n",
      "[75, 31, 36, 44, 58, 8]\n",
      "[22, 27, 33, 25, 68, 4]\n",
      "[84, 28, 14, 11, 5, 50]\n",
      "\n",
      "Sorted: \n",
      "[5, 17, 4, 1, 52, 7]\n",
      "[11, 11, 25, 45, 8, 69]\n",
      "[14, 23, 25, 44, 58, 15]\n",
      "[22, 27, 31, 36, 50, 66]\n",
      "[84, 28, 75, 33, 55, 68]\n"
     ]
    }
   ],
   "source": [
    "def sortDiag(mat):\n",
    "    m, n = len(mat), len(mat[0])\n",
    "    temp = [[] for i in range(m+n)]\n",
    "    for i in range(m):\n",
    "        for j in range(n):\n",
    "            temp[i - j].append(mat[i][j])\n",
    "    \n",
    "    for line in temp:\n",
    "        line.sort(reverse = True)\n",
    "\n",
    "    for i in range(m):\n",
    "        for j in range(n):\n",
    "            # pop удаляет последний элемент массива и возвращает его\n",
    "            mat[i][j] = temp[i-j].pop()\n",
    "    return mat\n",
    "\n",
    "arr = [[3,3,1,1], [2,2,1,2], [1,1,1,2]]\n",
    "print(\"mat:\")\n",
    "for l in arr:\n",
    "    print(l) \n",
    "print(\"\\nSorted: \")\n",
    "arr = sortDiag(arr)\n",
    "for l in arr:\n",
    "    print(l)\n",
    "arr = [[11, 25, 66, 1, 69, 7], [23, 55, 17, 45, 15, 52], [75, 31, 36, 44, 58, 8], [22, 27, 33, 25, 68, 4], [84, 28, 14, 11, 5, 50]]\n",
    "print(\"\\nmat:\")\n",
    "for l in arr:\n",
    "    print(l)\n",
    "    \n",
    "print(\"\\nSorted: \")\n",
    "arr = sortDiag(arr)\n",
    "for l in arr:\n",
    "    print(l)"
   ]
  },
  {
   "cell_type": "markdown",
   "id": "1e0e6441",
   "metadata": {},
   "source": [
    "### Задача на строки №1\n",
    "Даны две строки: s1 и s2 с одинаковым размером, проверьте, может ли некоторая перестановка строки s1 “победить” некоторую перестановку строки s2 или наоборот. Строка x может “победить” строку y (обе имеют размер n), если x[i]> = y [i] (в алфавитном порядке) для всех i от 0 до n-1."
   ]
  },
  {
   "cell_type": "code",
   "execution_count": 24,
   "id": "12444079",
   "metadata": {},
   "outputs": [
    {
     "name": "stdout",
     "output_type": "stream",
     "text": [
      "True\n",
      "False\n"
     ]
    }
   ],
   "source": [
    "def solve(str1, str2):\n",
    "    sorted1 = ''.join(sorted(str1));\n",
    "    sorted2 = ''.join(sorted(str2));\n",
    "    firstWon = True; secondWon = True;\n",
    "    \n",
    "    for i in range(0, len(sorted1)):\n",
    "        if not (sorted1[i] >= sorted2[i]):\n",
    "            firstWon = False\n",
    "            break;\n",
    "    \n",
    "    if not firstWon:\n",
    "        for i in range(0, len(sorted1)):\n",
    "            if not(sorted2[i] >= sorted1[i]):\n",
    "                secondWon = False\n",
    "                break;\n",
    "    else: secondWon = False\n",
    "    \n",
    "    return (firstWon or secondWon)\n",
    "print(solve('abc', 'xya'))\n",
    "print(solve('abe', 'acd'))"
   ]
  },
  {
   "cell_type": "markdown",
   "id": "771d7294",
   "metadata": {},
   "source": [
    "### Задача на строки №2\n",
    "Дана строка s, вернуть самую длинную полиндромную подстроку в s."
   ]
  },
  {
   "cell_type": "code",
   "execution_count": 37,
   "id": "1d9ffdd1",
   "metadata": {},
   "outputs": [
    {
     "name": "stdout",
     "output_type": "stream",
     "text": [
      "yhyhy\n"
     ]
    }
   ],
   "source": [
    "def palindrome(text):\n",
    "    most = \"\"\n",
    "    for i in range(len(text)):\n",
    "        for j in range(0, i):\n",
    "            rn = text[j:i + 1]\n",
    "            if rn == rn[::-1]:\n",
    "                if len(rn) >= len(most):\n",
    "                    most = rn\n",
    "    return most\n",
    "\n",
    "print(palindrome(\"erfyhyhydd\"))"
   ]
  },
  {
   "cell_type": "markdown",
   "id": "ac1309f6",
   "metadata": {},
   "source": [
    "### Задача на строки №3\n",
    "Вернуть количество отдельных непустых подстрок текста, которые могут быть записаны как конкатенация некоторой строки с самой собой (т.е. она может быть записана, как a + a, где a - некоторая строка)."
   ]
  },
  {
   "cell_type": "code",
   "execution_count": 38,
   "id": "4a76a21e",
   "metadata": {},
   "outputs": [
    {
     "name": "stdout",
     "output_type": "stream",
     "text": [
      "3\n"
     ]
    }
   ],
   "source": [
    "def empty(text):\n",
    "    length = len(text)\n",
    "    result = []\n",
    "    for i in range(0, length):\n",
    "        for j in range(i + 1, length + 1):\n",
    "            temp = text[i:j]\n",
    "            for i in range(0, len(temp)):\n",
    "                flag = False\n",
    "                if temp[0:i] == temp[i:len(temp)]:\n",
    "                    result.append(temp)\n",
    "                    flag = True\n",
    "                if flag == True: break;              \n",
    "    return len(set(result))\n",
    "print(empty('abcabcabc'))"
   ]
  },
  {
   "cell_type": "markdown",
   "id": "08aa0882",
   "metadata": {},
   "source": [
    "### Задача «Стопки монет»\n",
    "На столе стоят 3n стопок монет. Вы и ваши друзья Алиса и Боб забираете стопки монет по следующему алгоритму:\n",
    "\n",
    "-Вы выбираете 3 стопки монет из оставшихся на столе.\n",
    "\n",
    "-Алиса забирает себе стопку с максимальным количеством монет. \n",
    "\n",
    "-Вы забираете одну из двух оставшихся стопок. \n",
    "\n",
    "-Боб забирает последнюю стопку. \n",
    "\n",
    "-Если еще остались стопки, то действия повторяются с первого шага. \n",
    "\n",
    "Дан массив целых положительных чисел piles. Напишите функцию, возвращающую максимальное число монет, которое вы можете получить."
   ]
  },
  {
   "cell_type": "code",
   "execution_count": 39,
   "id": "294afe9b",
   "metadata": {},
   "outputs": [
    {
     "name": "stdout",
     "output_type": "stream",
     "text": [
      "[2,4,1,2,7,8,5] --> 15\n"
     ]
    }
   ],
   "source": [
    "def coins(piles):\n",
    "    piles.sort()\n",
    "    res=0\n",
    "    n=len(piles)//3\n",
    "    for i in range (n, len(piles), 2):\n",
    "        res+=piles[i]\n",
    "    return res\n",
    "\n",
    "print(\"[2,4,1,2,7,8,5] -->\", coins([2,4,1,2,7,8,5]))"
   ]
  },
  {
   "cell_type": "markdown",
   "id": "618d214b",
   "metadata": {},
   "source": [
    "### Задача «Шарики и стрелы»\n",
    "Некоторые сферические шарики распределены по двумерному пространству. Для каждого шарика даны \"х\" координаты начала и конца его горизонтального диаметра. Так как пространство двумерно, то \"y\" координаты не имеют значения в данной задаче. Координата xstart всегда меньше xend. \n",
    "\n",
    "Стрелу можно выстрелить строго вертикально (вдоль yоси) из разных точек xоси. Шарик с координатами xstart и xend уничтожается стрелой, если она была выпущена из такой позиции x, что xstart ⩽ x ⩽ xend. Когда стрела выпущена, она летит в пространстве бесконечное время (уничтожая все шарики на пути). \n",
    "\n",
    "Дан массив points, где points[i] = [xstart, xend]. Напишите функцию, возвращающую минимальное количество стрел, которые нужно выпустить, чтобы уничтожить все шарики."
   ]
  },
  {
   "cell_type": "code",
   "execution_count": 41,
   "id": "42eb58be",
   "metadata": {},
   "outputs": [
    {
     "name": "stdout",
     "output_type": "stream",
     "text": [
      "Массив:\n",
      " [[10, 61], [21, 95], [26, 92], [30, 58], [32, 87], [35, 63], [63, 91], [70, 92]]\n",
      "\n",
      "Количество выстрелов: 2\n"
     ]
    }
   ],
   "source": [
    "import random\n",
    "\n",
    "def get_arr(size, left_bound, right_bound):\n",
    "        _arr = []\n",
    "        for i in range(size):\n",
    "            _arr.append(random.randint(left_bound, right_bound))\n",
    "\n",
    "        _arr.sort()\n",
    "        return _arr\n",
    "    \n",
    "def arr_sort(arr):\n",
    "        for i in range(len(arr) - 1):\n",
    "            minXstart = arr[i][0]\n",
    "            min_index = i\n",
    "            for j in range(i + 1, len(arr)):\n",
    "                if minXstart > arr[j][0]:\n",
    "                    min_index = j\n",
    "                    minXstart = arr[j][0]\n",
    "            temp = arr[i]\n",
    "            arr[i] = arr[min_index]\n",
    "            arr[min_index] = temp\n",
    "    \n",
    "def solve():\n",
    "        points = []\n",
    "        size = 8\n",
    "        for i in range(size):\n",
    "            points.append(get_arr(2, 0, 100))\n",
    "\n",
    "        arr_sort(points)\n",
    "        print(\"Массив:\\n\", points)\n",
    "        shots = 0\n",
    "        while len(points) > 0:\n",
    "            count=0\n",
    "            i = 1\n",
    "            while i < len(points) and points[i - 1][1] >= points[i][0] and points[0][1] >= points[i][0]:\n",
    "                i += 1\n",
    "                count += 1\n",
    "                \n",
    "            while count >= 0:\n",
    "                del points[count]\n",
    "                count -= 1\n",
    "\n",
    "            shots += 1\n",
    "        print(\"\\nКоличество выстрелов:\", shots)\n",
    "        \n",
    "solve()"
   ]
  },
  {
   "cell_type": "markdown",
   "id": "087b2372",
   "metadata": {},
   "source": [
    "# Заключение\n",
    "В данной курсовой работе были рассмотрены 8 задач, в которых были реализованы алгоритмы сортировки, обработки данных, и работа со строками."
   ]
  }
 ],
 "metadata": {
  "kernelspec": {
   "display_name": "Python 3",
   "language": "python",
   "name": "python3"
  },
  "language_info": {
   "codemirror_mode": {
    "name": "ipython",
    "version": 3
   },
   "file_extension": ".py",
   "mimetype": "text/x-python",
   "name": "python",
   "nbconvert_exporter": "python",
   "pygments_lexer": "ipython3",
   "version": "3.8.8"
  }
 },
 "nbformat": 4,
 "nbformat_minor": 5
}
