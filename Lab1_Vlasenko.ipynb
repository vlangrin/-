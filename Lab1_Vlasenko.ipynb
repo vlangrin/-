{
 "cells": [
  {
   "cell_type": "markdown",
   "id": "4a1def24",
   "metadata": {},
   "source": [
    "# Лабораторная работа №1\n",
    "## Выполнил студент группы БФИ1901 Власенко Г.Г."
   ]
  },
  {
   "cell_type": "markdown",
   "id": "0cefa283",
   "metadata": {},
   "source": [
    "## Задание 1"
   ]
  },
  {
   "cell_type": "code",
   "execution_count": 1,
   "id": "61c7f537",
   "metadata": {},
   "outputs": [
    {
     "name": "stdout",
     "output_type": "stream",
     "text": [
      "Hello, World!\n"
     ]
    }
   ],
   "source": [
    "print ('Hello, World!')"
   ]
  },
  {
   "cell_type": "markdown",
   "id": "cfaae34c",
   "metadata": {},
   "source": [
    "## Задание 2\n",
    "Написать генератор случайных матриц(многомерных), который принимает опциональные параметры m, n, min_limit, max_limit, где m и n указывают размер матрицы, а min_lim и max_lim - минимальное и максимальное значение для генерируемого числа . По умолчанию при отсутствии параметров принимать следующие значения: m = 50 n = 50 min_limit = -250 max_limit = 1000 + (номер своего варианта)"
   ]
  },
  {
   "cell_type": "code",
   "execution_count": 2,
   "id": "4561b1ac",
   "metadata": {},
   "outputs": [],
   "source": [
    "import random\n",
    "def matrixgen(m = 50, n = 50, min_limit = -250, max_limit = 1003):\n",
    "    return [[random.randint(min_limit, max_limit) for _ in range(n)] for _ in range(m)]"
   ]
  },
  {
   "cell_type": "markdown",
   "id": "1c3929ae",
   "metadata": {},
   "source": [
    "## Задание 3\n",
    "Реализовать методы сортировки строк числовой матрицы в соответствии с заданием. Оценить время работы каждого алгоритма сортировки и сравнить его со временем стандартной функции сортировки. Испытания проводить на сгенерированных матрицах."
   ]
  },
  {
   "cell_type": "markdown",
   "id": "7332cde6",
   "metadata": {},
   "source": [
    "### Сортировка выбором\n"
   ]
  },
  {
   "cell_type": "code",
   "execution_count": 3,
   "id": "e7d81a46",
   "metadata": {},
   "outputs": [],
   "source": [
    "def selectionsort(arr):\n",
    "    for i, e in enumerate(arr):\n",
    "        mn = min(range(i, len(arr)), key=arr.__getitem__)\n",
    "        arr[i], arr[mn] = arr[mn], e\n",
    "    return arr"
   ]
  },
  {
   "cell_type": "markdown",
   "id": "03262f06",
   "metadata": {},
   "source": [
    "### Сортировка вставкой"
   ]
  },
  {
   "cell_type": "code",
   "execution_count": 4,
   "id": "131c6dc6",
   "metadata": {},
   "outputs": [],
   "source": [
    "def insertionsort(arr):\n",
    "    for i in range(1, len(arr)):\n",
    "        j = i - i\n",
    "        while j >= 0 and arr[i] < arr[j]: \n",
    "            arr[j + 1] = arr[j]\n",
    "            j -= 1\n",
    "        arr[j + 1] = arr[i]"
   ]
  },
  {
   "cell_type": "markdown",
   "id": "c5fa13a6",
   "metadata": {},
   "source": [
    "### Сортировка обменом"
   ]
  },
  {
   "cell_type": "code",
   "execution_count": 5,
   "id": "91a96fb4",
   "metadata": {},
   "outputs": [],
   "source": [
    "def exchangesort(arr):\n",
    "    for i in range(len(arr)):\n",
    "        for j in range(0, len(arr)-i-1): \n",
    "            if arr[j] > arr[j+1] : \n",
    "                arr[j], arr[j+1] = arr[j+1], arr[j]"
   ]
  },
  {
   "cell_type": "markdown",
   "id": "1b50c538",
   "metadata": {},
   "source": [
    "### Сортировка Шелла"
   ]
  },
  {
   "cell_type": "code",
   "execution_count": 6,
   "id": "da4da580",
   "metadata": {},
   "outputs": [],
   "source": [
    "def shellsort(arr):\n",
    "    last_index = len(arr) - 1\n",
    "    step = len(arr) // 2\n",
    "    while step > 0:\n",
    "        for i in range(step, last_index + 1, 1):\n",
    "            j = i\n",
    "            delta = j - step\n",
    "            while delta >= 0 and arr[delta] > arr[j]:\n",
    "                arr[delta], arr[j] = arr[j], arr[delta]\n",
    "                j = delta\n",
    "                delta = j - step\n",
    "        step //= 2\n"
   ]
  },
  {
   "cell_type": "markdown",
   "id": "fa8a08fa",
   "metadata": {},
   "source": [
    "### Турнирная сортировка"
   ]
  },
  {
   "cell_type": "code",
   "execution_count": 7,
   "id": "c6cddac1",
   "metadata": {},
   "outputs": [],
   "source": [
    "def tournamentsort(arr):\n",
    "    tree = [None] * 2 * (len(arr) + len(arr) % 2)\n",
    "    index = len(tree) - len(arr) - len(arr) % 2\n",
    "    \n",
    "    for i, v in enumerate(arr):\n",
    "        tree[index + i] = (i, v)\n",
    "    \n",
    "    for j in range(len(arr)):\n",
    "        n = len(arr)\n",
    "        index = len(tree) - len(arr) - len(arr) % 2\n",
    "        while index > -1:\n",
    "            n = (n + 1) // 2\n",
    "            for i in range(n):\n",
    "                i = max(index + i * 2, 1) \n",
    "                if tree[i] != None and tree[i + 1] != None:\n",
    "                    if tree[i][1] < tree[i + 1][1]:\n",
    "                        tree[i // 2] = tree[i]\n",
    "                    else:\n",
    "                        tree[i // 2] = tree[i + 1]\n",
    "                else:\n",
    "                    tree[i // 2] = tree[i] if tree[i] != None else tree[i + 1]\n",
    "            index -= n\n",
    "\n",
    "        index, x = tree[0]\n",
    "        arr[j] = x\n",
    "        tree[len(tree) - len(arr) - len(arr) % 2 + index] = None"
   ]
  },
  {
   "cell_type": "markdown",
   "id": "e44e35ad",
   "metadata": {},
   "source": [
    "### Быстрая сортировка"
   ]
  },
  {
   "cell_type": "code",
   "execution_count": 8,
   "id": "001ad837",
   "metadata": {},
   "outputs": [],
   "source": [
    "def quicksort(arr, fst=0, lst=None):\n",
    "    if lst == None:\n",
    "        lst = len(arr) - 1\n",
    "        \n",
    "    if fst >= lst:\n",
    "        return\n",
    " \n",
    "    i, j = fst, lst\n",
    "    pivot = arr[(lst + fst) // 2]\n",
    " \n",
    "    while i <= j:\n",
    "        while arr[i] < pivot: i += 1\n",
    "        while arr[j] > pivot: j -= 1\n",
    "        if i <= j:\n",
    "            arr[i], arr[j] = arr[j], arr[i]\n",
    "            i, j = i + 1, j - 1\n",
    "            \n",
    "    quicksort(arr, fst, j)\n",
    "    quicksort(arr, i, lst)"
   ]
  },
  {
   "cell_type": "markdown",
   "id": "fdc3fba4",
   "metadata": {},
   "source": [
    "### Пирамидальная сортировка"
   ]
  },
  {
   "cell_type": "code",
   "execution_count": 9,
   "id": "321bd271",
   "metadata": {},
   "outputs": [],
   "source": [
    "def heapify(arr, n, i):\n",
    "    largest = i \n",
    "    l = 2 * i + 1  \n",
    "    r = 2 * i + 2  \n",
    "\n",
    "    if l < n and arr[i] < arr[l]:\n",
    "        largest = l\n",
    "\n",
    "    if r < n and arr[largest] < arr[r]:\n",
    "        largest = r\n",
    "\n",
    "    if largest != i:\n",
    "        arr[i], arr[largest] = arr[largest], arr[i]\n",
    "        heapify(arr, n, largest)\n",
    "\n",
    "def heap_sort(arr):\n",
    "    n = len(arr)\n",
    "\n",
    "    for i in range(n, -1, -1):\n",
    "        heapify(arr, n, i)\n",
    "\n",
    "    for i in range(n-1, 0, -1):\n",
    "        arr[i], arr[0] = arr[0], arr[i]\n",
    "        heapify(arr, i, 0)"
   ]
  },
  {
   "cell_type": "markdown",
   "id": "68541501",
   "metadata": {},
   "source": [
    "## Сравнение скорости алгоритмов"
   ]
  },
  {
   "cell_type": "code",
   "execution_count": 10,
   "id": "a59d9036",
   "metadata": {},
   "outputs": [
    {
     "name": "stdout",
     "output_type": "stream",
     "text": [
      "Алгоритм                      Время\n",
      "-----------------------------------\n",
      "Встроенная сортирока          1.4742200000057437e-05\n",
      "Сортировка вставкой           0.0002821592000000095\n",
      "Cортировка Шелла              0.0018013635600000555\n",
      "Быстрая сортировка            0.0018698506999999154\n",
      "Пирамидальная сортировка      0.007565095239999948\n",
      "Сортировка выбором            0.03328236164\n",
      "Сортировка обменом            0.0700717692\n",
      "Турнирная сортировка          0.7579725777599999\n"
     ]
    }
   ],
   "source": [
    "import random\n",
    "import time\n",
    "\n",
    "SORT_FUNCTIONS = {\n",
    "    'Сортировка выбором': selectionsort,\n",
    "    'Сортировка вставкой': insertionsort,\n",
    "    'Сортировка обменом': exchangesort,\n",
    "    'Cортировка Шелла': shellsort,\n",
    "    'Турнирная сортировка': tournamentsort,\n",
    "    'Быстрая сортировка': quicksort,\n",
    "    'Пирамидальная сортировка': heap_sort,\n",
    "    'Встроенная сортирока': sorted\n",
    "}\n",
    "\n",
    "def print_comparison(comparison):\n",
    "    largest_name_len = len(max(comparison.keys(), key=len))\n",
    "    largest_name_len += 6\n",
    "\n",
    "    heading = 'Алгоритм'.ljust(largest_name_len) + 'Время'\n",
    "    print(heading)\n",
    "    print('-' * len(heading))\n",
    "    for algo, time_taken in comparison.items():\n",
    "        print(f'{algo:<{largest_name_len}}{time_taken}')\n",
    "\n",
    "time_taken = {}\n",
    "samples = matrixgen(50, 1000)\n",
    "for algo_name, sorter in SORT_FUNCTIONS.items():\n",
    "    samples_copy = samples.copy()\n",
    "    start = time.perf_counter()\n",
    "    for sample in samples_copy:\n",
    "        sorter(sample)\n",
    "    end = time.perf_counter()\n",
    "\n",
    "    time_taken[algo_name] = (end - start) / len(samples)\n",
    "\n",
    "time_taken_sorted = dict(sorted(time_taken.items(), key=lambda kv: kv[1]))\n",
    "print_comparison(time_taken_sorted)"
   ]
  }
 ],
 "metadata": {
  "kernelspec": {
   "display_name": "Python 3",
   "language": "python",
   "name": "python3"
  },
  "language_info": {
   "codemirror_mode": {
    "name": "ipython",
    "version": 3
   },
   "file_extension": ".py",
   "mimetype": "text/x-python",
   "name": "python",
   "nbconvert_exporter": "python",
   "pygments_lexer": "ipython3",
   "version": "3.8.8"
  }
 },
 "nbformat": 4,
 "nbformat_minor": 5
}
