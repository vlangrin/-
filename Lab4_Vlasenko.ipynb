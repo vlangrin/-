{
 "cells": [
  {
   "cell_type": "markdown",
   "id": "8916dbbc",
   "metadata": {},
   "source": [
    "# Лабораторная работа №4\n",
    "## Выполнил студент группы БФИ1901 Власенко Г.Г.\n",
    "Реализовать следующие структуры данных:\n",
    "\n",
    "● Стек (stack):\n",
    "\n",
    "операции для стека: инициализация, проверка на пустоту, добавление нового элемента в начало, извлечение элемента из начала;\n",
    "\n",
    "● Дек (двусторонняя очередь, deque):\n",
    "\n",
    "операции для дека: инициализация, проверка на пустоту, добавление нового элемента в начало, добавление нового элемента в конец, извлечение элемента из начала, извлечение элемента из конца.\n",
    "\n",
    "Разработать программу обработки данных, содержащихся в заранее подготовленном txt-файле, в соответствии с заданиями, применив указанную в задании структуру данных. Результат работы программы вывести на экран и сохранить в отдельном txt-файле."
   ]
  },
  {
   "cell_type": "code",
   "execution_count": 3,
   "id": "1ceb5474",
   "metadata": {},
   "outputs": [],
   "source": [
    "class LinkedNode:\n",
    "    \"\"\" Связный список с ссылками на обратный и следующий элемент \"\"\"\n",
    "    def __init__(self, value=None):\n",
    "        self.value = value\n",
    "        self.right = None\n",
    "        self.left = None"
   ]
  },
  {
   "cell_type": "markdown",
   "id": "f384cbae-c2aa-4b4b-99c8-a9781ee54f4d",
   "metadata": {},
   "source": [
    "### Стек"
   ]
  },
  {
   "cell_type": "code",
   "execution_count": 4,
   "id": "89070d0c-d723-4cfc-998a-51bcef1158cd",
   "metadata": {},
   "outputs": [],
   "source": [
    "class Stack:\n",
    "    def __init__(self):\n",
    "        self.head = LinkedNode()\n",
    "        self.size = 0\n",
    "\n",
    "    def is_empty(self):\n",
    "        return self.size == 0\n",
    "\n",
    "    def push(self, value):\n",
    "        if self.size > 0:\n",
    "            node = LinkedNode(value)\n",
    "            node.right = self.head\n",
    "            self.head = node\n",
    "        else:\n",
    "            self.head.value = value\n",
    "        self.size += 1\n",
    "      \n",
    "    def pop(self):\n",
    "        if self.is_empty():\n",
    "            raise Exception(\"Popping from an empty stack\")\n",
    "        remove = self.head\n",
    "        if self.size > 1:\n",
    "            self.head = remove.right\n",
    "        self.size -= 1\n",
    "        return remove.value\n",
    "    \n",
    "    def peek(self):\n",
    "        if self.is_empty():\n",
    "            raise Exception(\"Popping from an empty stack\")\n",
    "        return self.head.value\n",
    "    \n",
    "    def __len__(self):\n",
    "        return self.size\n",
    "\n",
    "    def reverse(self):\n",
    "        current = self.head\n",
    "        prev = None\n",
    "        next = None\n",
    " \n",
    "        while current is not None:\n",
    "            next = current.right\n",
    "            current.right = prev\n",
    "            prev = current\n",
    "            current = next\n",
    "\n",
    "        self.head = prev"
   ]
  },
  {
   "cell_type": "markdown",
   "id": "61496397-c381-4d25-8649-a025be751736",
   "metadata": {},
   "source": [
    "### Дек"
   ]
  },
  {
   "cell_type": "code",
   "execution_count": 5,
   "id": "8638d311-e2ee-498c-b516-35dd122321b1",
   "metadata": {},
   "outputs": [],
   "source": [
    "class Deque:\n",
    "    def __init__(self):\n",
    "        self.head = LinkedNode()\n",
    "        self.tail = self.head\n",
    "        self.size = 0\n",
    "    \n",
    "    def is_empty(self):\n",
    "        return self.size == 0\n",
    "\n",
    "    def push_left(self, value):\n",
    "        if self.size > 0:\n",
    "            node = LinkedNode(value)\n",
    "            node.right = self.tail\n",
    "            self.tail.left = node\n",
    "            self.tail = node\n",
    "        else:\n",
    "            self.tail.value = value\n",
    "        self.size += 1\n",
    "\n",
    "    def push(self, value):\n",
    "        if self.size > 0:\n",
    "            node = LinkedNode(value)\n",
    "            node.left = self.head\n",
    "            self.head.right = node\n",
    "            self.head = node\n",
    "        else:\n",
    "            self.head.value = value\n",
    "        self.size += 1\n",
    "    \n",
    "    def pop_left(self):\n",
    "        if self.is_empty():\n",
    "            raise Exception(\"Popping from an empty deque\")\n",
    "        remove = self.tail\n",
    "        if self.size > 1:\n",
    "            self.tail = remove.right\n",
    "        self.size -= 1\n",
    "        return remove.value\n",
    "    \n",
    "    def pop(self):\n",
    "        if self.is_empty():\n",
    "            raise Exception(\"Popping from an empty deque\")\n",
    "        remove = self.head\n",
    "        if self.size > 1:\n",
    "            self.head = remove.left\n",
    "        self.size -= 1\n",
    "        return remove.value\n",
    "    \n",
    "    def peek(self):\n",
    "        if self.is_empty():\n",
    "            raise Exception(\"Popping from an empty deque\")\n",
    "        return self.head.value\n",
    "    \n",
    "    def peek_left(self):\n",
    "        if self.is_empty():\n",
    "            raise Exception(\"Popping from an empty deque\")\n",
    "        return self.tail.value\n",
    "\n",
    "    def __len__(self):\n",
    "        return self.size"
   ]
  },
  {
   "cell_type": "markdown",
   "id": "0a6b1305-359b-41ce-b3e5-4f72ea4386c1",
   "metadata": {},
   "source": [
    "### Задание 1\n",
    "Отсортировать строки файла, содержащие названия книг, в алфавитном порядке с использованием двух деков."
   ]
  },
  {
   "cell_type": "code",
   "execution_count": 8,
   "id": "7300dbfc-a751-487e-b339-2b8491773e6f",
   "metadata": {},
   "outputs": [
    {
     "name": "stdout",
     "output_type": "stream",
     "text": [
      "Don Quixote by Miguel de Cervantes. \n",
      "\n",
      "In Search of Lost Time by Marcel Proust.\n",
      "\n",
      "Moby Dick by Herman Melville.\n",
      "\n",
      "One Hundred Years of Solitude by Gabriel Garcia Marquez. \n",
      "\n",
      "The Great Gatsby by F. \n",
      "\n",
      "Ulysses by James Joyce.\n",
      "\n",
      "War and Peace by Leo Tolstoy.\n"
     ]
    }
   ],
   "source": [
    "with open('Books.txt', 'r') as books:\n",
    "    q1 = Deque()\n",
    "    q2 = Deque()\n",
    "    for book in books:\n",
    "        q1.push(book)\n",
    "    while not q1.is_empty():\n",
    "        x = q1.pop()\n",
    "        while not q2.is_empty() and q2.peek() < x:\n",
    "            q1.push_left(q2.pop())\n",
    "        q2.push(x)\n",
    "    while not q2.is_empty():\n",
    "        print(q2.pop())"
   ]
  },
  {
   "cell_type": "markdown",
   "id": "1170568b-ce2e-4a22-87cd-13dbee7259b8",
   "metadata": {},
   "source": [
    "### Задание 2\n",
    "Дек содержит последовательность символов для шифровки сообщений. Дан текстовый файл, содержащий зашифрованное сообщение. Пользуясь деком, расшифровать текст. Известно, что при шифровке каждый символ сообщения заменялся следующим за ним в деке по часовой стрелке через один."
   ]
  },
  {
   "cell_type": "code",
   "execution_count": 9,
   "id": "5137e73d-38a8-4181-965d-a8ac7c80d709",
   "metadata": {},
   "outputs": [
    {
     "name": "stdout",
     "output_type": "stream",
     "text": [
      "бшхсужютгеёфдъовйпяьрлмачицзэыкщн\n"
     ]
    }
   ],
   "source": [
    "import random\n",
    "\n",
    "alphabet = list('абвгдеёжзийклмнопрстуфхцчшщъыьэюя')\n",
    "random.shuffle(alphabet)\n",
    "alphabet = ''.join(alphabet)\n",
    "print(alphabet)\n",
    "keyRing = Deque()\n",
    "for letter in alphabet:\n",
    "    keyRing.push(letter)"
   ]
  },
  {
   "cell_type": "code",
   "execution_count": 10,
   "id": "e6d5f462-878d-4e76-b491-9258bfa5343d",
   "metadata": {},
   "outputs": [
    {
     "name": "stdout",
     "output_type": "stream",
     "text": [
      " цэйёугбв, игв ялц хцдлвйщё щчюъкп уцайвм уввшнёбць эчаёбьмуь\n",
      " известно, что при шифровке каждый символ сообщения заменялся\n"
     ]
    }
   ],
   "source": [
    "def encode_char(c):\n",
    "    for i in range(len(keyRing)):\n",
    "        x = keyRing.pop_left()\n",
    "        if x == c:\n",
    "            keyRing.push(x)\n",
    "            val = keyRing.pop_left()\n",
    "            keyRing.push(val)\n",
    "            return val\n",
    "        keyRing.push(x)\n",
    "\n",
    "def decode_char(c):\n",
    "    for i in range(len(keyRing)):\n",
    "        x = keyRing.pop()\n",
    "        if x == c:\n",
    "            keyRing.push_left(x)\n",
    "            val = keyRing.pop()\n",
    "            keyRing.push_left(val)\n",
    "            return val\n",
    "        keyRing.push_left(x)\n",
    "        \n",
    "text = ' Известно, что при шифровке каждый символ сообщения заменялся'.lower()\n",
    "\n",
    "encoded = ''\n",
    "for letter in text:\n",
    "    if encoded_letter := encode_char(letter):\n",
    "        encoded += encoded_letter\n",
    "    else:\n",
    "        encoded += letter\n",
    "\n",
    "print(encoded)\n",
    "\n",
    "decoded = ''\n",
    "for letter in encoded:\n",
    "    if decoded_letter := decode_char(letter):\n",
    "        decoded += decoded_letter\n",
    "    else:\n",
    "        decoded += letter\n",
    "print(decoded)"
   ]
  },
  {
   "cell_type": "markdown",
   "id": "726ce151-a83b-49b3-a89d-0f02456064e0",
   "metadata": {},
   "source": [
    "### Задание 3\n",
    "Даны три стержня и n дисков различного размера. Диски можно надевать на стержни, образуя из них башни. Перенести n дисков со стержня А на стержень С, сохранив их первоначальный порядок. При переносе дисков необходимо соблюдать следующие правила:\n",
    "на каждом шаге со стержня на стержень переносить только один диск; диск нельзя помещать на диск меньшего размера; для промежуточного хранения можно использовать стержень В. Реализовать алгоритм, используя три стека вместо стержней А, В, С. Информация о дисках хранится в исходном файле."
   ]
  },
  {
   "cell_type": "code",
   "execution_count": 11,
   "id": "0191f87c-0cc5-464c-85a1-3a7bbf67ebe0",
   "metadata": {},
   "outputs": [
    {
     "name": "stdout",
     "output_type": "stream",
     "text": [
      "1\n",
      "2\n",
      "3\n",
      "4\n",
      "5\n",
      "6\n",
      "7\n",
      "8\n",
      "9\n",
      "10\n"
     ]
    }
   ],
   "source": [
    "x = Stack()\n",
    "y = Stack()\n",
    "z = Stack()\n",
    "\n",
    "disks = 10\n",
    "\n",
    "for i in range(disks, 0, -1):\n",
    "    x.push(i)\n",
    "\n",
    "def move(a, b):\n",
    "    if len(a) == 0 and len(b) > 0:\n",
    "        a.push(b.pop())\n",
    "    elif len(a) > 0 and len(b) == 0:\n",
    "        b.push(a.pop())\n",
    "    elif a.peek() > b.peek():\n",
    "        a.push(b.pop())\n",
    "    else:\n",
    "        b.push(a.pop())\n",
    "\n",
    "if disks % 2 == 0:\n",
    "    while len(z) != disks:\n",
    "        move(x, y)\n",
    "        move(x, z)\n",
    "        move(y, z)\n",
    "else:\n",
    "    while len(z) != disks:\n",
    "        move(x, z)\n",
    "        move(x, y)\n",
    "        move(y, z)\n",
    "\n",
    "while not z.is_empty():\n",
    "    print(z.pop())"
   ]
  },
  {
   "cell_type": "markdown",
   "id": "84aac648-cf1b-4f8d-86dd-d915a75f2db2",
   "metadata": {},
   "source": [
    "### Задание 4\n",
    "Дан текстовый файл с программой на алгоритмическом языке. За один просмотр файла проверить баланс круглых скобок в тексте, используя стек."
   ]
  },
  {
   "cell_type": "code",
   "execution_count": 12,
   "id": "e65df662-363c-41d8-8f76-8a52399d6943",
   "metadata": {},
   "outputs": [
    {
     "name": "stdout",
     "output_type": "stream",
     "text": [
      "False\n",
      "True\n"
     ]
    }
   ],
   "source": [
    "def check_brackets(string):\n",
    "    bracket_stack = Stack()\n",
    "    for i in string:\n",
    "        if i == '(':\n",
    "            bracket_stack.push(i)\n",
    "        elif i == ')':\n",
    "            if bracket_stack.is_empty():\n",
    "                return False\n",
    "            bracket_stack.pop()\n",
    "    return bracket_stack.is_empty()\n",
    "\n",
    "print(check_brackets('()())((())(()(())()'))\n",
    "print(check_brackets('(()())()()()()(()(()(())()))'))"
   ]
  },
  {
   "cell_type": "markdown",
   "id": "39e42f81-a6b9-4a50-aa5d-c1569585cf82",
   "metadata": {},
   "source": [
    "### Задание 5\n",
    "Дан текстовый файл с программой на алгоритмическом языке. За один просмотр файла проверить баланс квадратных скобок в тексте, используя дек."
   ]
  },
  {
   "cell_type": "code",
   "execution_count": 13,
   "id": "39e7a6fb-d234-4e17-be74-0c20496fc391",
   "metadata": {},
   "outputs": [
    {
     "name": "stdout",
     "output_type": "stream",
     "text": [
      "True\n",
      "False\n"
     ]
    }
   ],
   "source": [
    "def check_square_brackets(string):\n",
    "    bracket_stack = Deque()\n",
    "    for i in string:\n",
    "        if i == '[':\n",
    "            bracket_stack.push(i)\n",
    "        elif i == ']':\n",
    "            if bracket_stack.is_empty():\n",
    "                return False\n",
    "            bracket_stack.pop()\n",
    "    return bracket_stack.is_empty()\n",
    "\n",
    "print(check_square_brackets('[[][][][[][]][][[][][][][]]][]'))\n",
    "print(check_square_brackets('[][[][[[[]][[]]]]]]'))"
   ]
  },
  {
   "cell_type": "markdown",
   "id": "0a3ccf48-ae4b-4555-ac92-9ff941963026",
   "metadata": {},
   "source": [
    "### Задание 6\n",
    "Дан файл из символов. Используя стек, за один просмотр файла напечатать сначала все цифры, затем все буквы, и, наконец, все остальные символы, сохраняя исходный порядок в каждой группе символов."
   ]
  },
  {
   "cell_type": "code",
   "execution_count": 14,
   "id": "c11cb9ca-2fa1-47c4-8eb0-65e6a54828e6",
   "metadata": {},
   "outputs": [
    {
     "name": "stdout",
     "output_type": "stream",
     "text": [
      "2\n",
      "1366752362JVsdbfjindsc--*_$\n"
     ]
    }
   ],
   "source": [
    "text = 'JVsdbfj2136--*67523indsc_$62'\n",
    "\n",
    "letters = Stack()\n",
    "digits = Stack()\n",
    "others = Stack()\n",
    "\n",
    "for c in text:\n",
    "    if c.isalpha():\n",
    "        letters.push(c)\n",
    "    elif c.isdigit():\n",
    "        digits.push(c)\n",
    "    else:\n",
    "        others.push(c)\n",
    "\n",
    "new_text = ''\n",
    "\n",
    "letters.reverse()\n",
    "digits.reverse()\n",
    "others.reverse()\n",
    "\n",
    "print(digits.pop())\n",
    "\n",
    "while not digits.is_empty():\n",
    "    new_text += digits.pop()\n",
    "\n",
    "while not letters.is_empty():\n",
    "    new_text += letters.pop()\n",
    "\n",
    "while not others.is_empty():\n",
    "    new_text += others.pop()\n",
    "\n",
    "print(new_text)"
   ]
  },
  {
   "cell_type": "markdown",
   "id": "d7616bf1-1ec5-4b11-83fd-02c29780b730",
   "metadata": {},
   "source": [
    "### Задание 7\n",
    "Дан файл из целых чисел. Используя дек, за один просмотр файла напечатать сначала все отрицательные числа, затем все положительные числа, сохраняя исходный порядок в каждой группе."
   ]
  },
  {
   "cell_type": "code",
   "execution_count": 15,
   "id": "9b726b6e-bcd8-4ed1-82f7-9cf1dcc65dd2",
   "metadata": {},
   "outputs": [
    {
     "name": "stdout",
     "output_type": "stream",
     "text": [
      "[18, -9, 9, 4, 17, -17, 3, 6, 17, -2]\n",
      "-9\n",
      "-17\n",
      "-2\n",
      "18\n",
      "9\n",
      "4\n",
      "17\n",
      "3\n",
      "6\n",
      "17\n"
     ]
    }
   ],
   "source": [
    "numbers = [random.randint(-20, 20) for i in range(10)]\n",
    "print(numbers)\n",
    "\n",
    "deque = Deque()\n",
    "for n in numbers:\n",
    "    if n < 0:\n",
    "        deque.push_left(n)\n",
    "    else:\n",
    "        deque.push(n)\n",
    "\n",
    "while not deque.is_empty():\n",
    "    x = deque.pop_left()\n",
    "    if x < 0:\n",
    "        deque.push(x)\n",
    "    else:\n",
    "        deque.push_left(x)\n",
    "        break\n",
    "\n",
    "while not deque.is_empty():\n",
    "    x = deque.pop()\n",
    "    if x < 0:\n",
    "        print(x)\n",
    "    else:\n",
    "        deque.push(x)\n",
    "        break\n",
    "\n",
    "while not deque.is_empty():\n",
    "    print(deque.pop_left())"
   ]
  },
  {
   "cell_type": "markdown",
   "id": "f453c06b-83b5-4fd5-af48-8ee7cb695d4e",
   "metadata": {},
   "source": [
    "### Задание 8\n",
    "Дан текстовый файл. Используя стек, сформировать новый текстовый файл, содержащий строки исходного файла, записанные в обратном порядке: первая строка становится последней, вторая – предпоследней и т.д."
   ]
  },
  {
   "cell_type": "code",
   "execution_count": 16,
   "id": "c338520d-c87f-4b6f-ab54-454438a55c35",
   "metadata": {},
   "outputs": [
    {
     "name": "stdout",
     "output_type": "stream",
     "text": [
      "In Search of Lost Time by Marcel Proust.\n",
      "Ulysses by James Joyce.\n",
      "Don Quixote by Miguel de Cervantes.\n",
      "One Hundred Years of Solitude by Gabriel Garcia Marquez.\n",
      "The Great Gatsby by F.\n",
      "Moby Dick by Herman Melville.\n",
      "War and Peace by Leo Tolstoy.\n",
      "\n",
      "War and Peace by Leo Tolstoy.\n",
      "Moby Dick by Herman Melville.\n",
      "The Great Gatsby by F.\n",
      "One Hundred Years of Solitude by Gabriel Garcia Marquez.\n",
      "Don Quixote by Miguel de Cervantes.\n",
      "Ulysses by James Joyce.\n",
      "In Search of Lost Time by Marcel Proust.\n"
     ]
    }
   ],
   "source": [
    "with open('Books.txt', 'r') as books:\n",
    "    stack = Stack()\n",
    "    for book in books:\n",
    "        book = book.strip()\n",
    "        print(book)\n",
    "        stack.push(book)\n",
    "    print()\n",
    "    while not stack.is_empty():\n",
    "        print(stack.pop())"
   ]
  },
  {
   "cell_type": "markdown",
   "id": "e7c1f564-33d5-4e66-9fab-673ab275731e",
   "metadata": {},
   "source": [
    "### Задание 9\n",
    "Дан текстовый файл. Используя стек, вычислить значение логического выражения, записанного в текстовом файле в следующей форме:\n",
    "\n",
    "< ЛВ > ::= T | F | (N) | (A) | (X) | (O), где буквами обозначены логические константы и операции:\n",
    "T – True, F – False, N – Not, A – And, X – Xor, O – Or."
   ]
  },
  {
   "cell_type": "code",
   "execution_count": 17,
   "id": "dc09cb97-082d-4725-84c1-22d58f817ab5",
   "metadata": {},
   "outputs": [
    {
     "name": "stdout",
     "output_type": "stream",
     "text": [
      "T\n"
     ]
    }
   ],
   "source": [
    "text = '((T)XF)X(TAT)OT'\n",
    "\n",
    "opstack = Stack()\n",
    "vstack = Stack()\n",
    "\n",
    "cur = 0\n",
    "while True:\n",
    "    read = False\n",
    "    if not opstack.is_empty():\n",
    "        if opstack.peek() == 'N':\n",
    "            if vstack.is_empty():\n",
    "                read = True\n",
    "            else:\n",
    "                if vstack.pop() == 'T':\n",
    "                    vstack.push('F')\n",
    "                else:\n",
    "                    vstack.push('T')\n",
    "                opstack.pop()\n",
    "        elif opstack.peek() == 'A':\n",
    "            if len(vstack) < 2:\n",
    "                read = True\n",
    "            else:\n",
    "                a = vstack.pop()\n",
    "                b = vstack.pop()\n",
    "                if a == b and b == 'T':\n",
    "                    vstack.push('T')\n",
    "                else:\n",
    "                    vstack.push('F')\n",
    "                opstack.pop()\n",
    "        elif opstack.peek() == 'O':\n",
    "            if len(vstack) < 2:\n",
    "                read = True\n",
    "            else:\n",
    "                a = vstack.pop()\n",
    "                b = vstack.pop()\n",
    "                if a == 'T' or b == 'T':\n",
    "                    vstack.push('T')\n",
    "                else:\n",
    "                    vstack.push('F')\n",
    "                opstack.pop()\n",
    "        elif opstack.peek() == 'X':\n",
    "            if len(vstack) < 2:\n",
    "                read = True\n",
    "            else:\n",
    "                a = vstack.pop()\n",
    "                b = vstack.pop()\n",
    "                if a != b:\n",
    "                    vstack.push('T')\n",
    "                else:\n",
    "                    vstack.push('F')\n",
    "                opstack.pop()\n",
    "        elif opstack.peek() == '(':\n",
    "            read = True\n",
    "        elif opstack.peek() == ')':\n",
    "            opstack.pop()\n",
    "            opstack.pop()\n",
    "    else:\n",
    "        read = True\n",
    "    if read:\n",
    "        i = text[cur]\n",
    "        if i in 'FT':\n",
    "            vstack.push(i)\n",
    "        if i in 'AXON()':\n",
    "            opstack.push(i)\n",
    "        cur += 1\n",
    "    \n",
    "\n",
    "    if cur == len(text) and len(opstack) == 0:\n",
    "        break\n",
    "\n",
    "while not vstack.is_empty():\n",
    "    print(vstack.pop())"
   ]
  },
  {
   "cell_type": "markdown",
   "id": "876e0f01-6892-4718-9e8a-83520c46b354",
   "metadata": {},
   "source": [
    "### Задание 10\n",
    "\n",
    "Дан текстовый файл. В текстовом файле записана формула следующего вида:\n",
    "\n",
    "::= | M(,) | N(Формула>,) < Цифра > ::= 0 | 1 | 2 | 3 | 4 | 5 | 6 | 7 | 8 | 9 где буквами обозначены функции:\n",
    "M – определение максимума, N – определение минимума.\n",
    "\n",
    "Используя стек, вычислить значение заданного выражения."
   ]
  },
  {
   "cell_type": "code",
   "execution_count": 18,
   "id": "57b62776-503a-482b-b793-541c228ab617",
   "metadata": {},
   "outputs": [
    {
     "name": "stdout",
     "output_type": "stream",
     "text": [
      "10\n"
     ]
    }
   ],
   "source": [
    "def vyr(st):\n",
    "    op = Stack()\n",
    "    nums = Stack()\n",
    "    file=st\n",
    "    num = ''\n",
    "    cur = 0\n",
    "    while cur <len(file):\n",
    "        i= file[cur]\n",
    "        if i.isdigit():\n",
    "            num += i\n",
    "        elif num != '':\n",
    "            nums.push(int(num))\n",
    "            num = ''\n",
    "        if i in 'MN':\n",
    "            op.push(i)\n",
    "        cur += 1\n",
    "\n",
    "    while not op.is_empty():\n",
    "        a = nums.pop()\n",
    "        b = nums.pop()\n",
    "        if a < b:\n",
    "            a,b = b,a\n",
    "        if op.pop() == 'M':\n",
    "            nums.push(a)\n",
    "        else:\n",
    "            nums.push(b)\n",
    "        \n",
    "    while not nums.is_empty():\n",
    "        print(nums.pop())\n",
    "\n",
    "vyr('M(N(10,9),M(4,N(8,M(7,M(6,M(5,4))))))')"
   ]
  },
  {
   "cell_type": "markdown",
   "id": "125628f7-f1c5-4af9-9a15-637b76318946",
   "metadata": {},
   "source": [
    "### Задание 11\n",
    "Дан текстовый файл. Используя стек, проверить, является ли содержимое текстового файла правильной записью формулы вида:\n",
    "\n",
    "< Формула > ::= < Терм > | < Терм > + < Формула > | < Терм > - < Формула > < Терм > ::= < Имя > | (< Формула >) < Имя > ::= x | y | z"
   ]
  },
  {
   "cell_type": "code",
   "execution_count": 21,
   "id": "9f303e0a-d179-4377-84e5-6aa5215ca360",
   "metadata": {},
   "outputs": [
    {
     "data": {
      "text/plain": [
       "True"
      ]
     },
     "execution_count": 21,
     "metadata": {},
     "output_type": "execute_result"
    }
   ],
   "source": [
    "def check(text):\n",
    "    stack = Stack()\n",
    "\n",
    "    cur = 0\n",
    "    while True:\n",
    "        read = False\n",
    "        if not stack.is_empty():\n",
    "            if stack.peek() == '(':\n",
    "                read = True\n",
    "            elif stack.peek() == ')':\n",
    "                stack.pop()\n",
    "                if len(stack) < 2 or stack.pop() != 'formula' or stack.pop() != '(':\n",
    "                    return False\n",
    "                stack.push('formula')\n",
    "            elif stack.peek() == 'formula':\n",
    "                stack.pop()\n",
    "                if len(stack) > 1 and stack.peek() in '+-':\n",
    "                    if stack.pop() in '+-' and stack.pop() == 'formula':\n",
    "                        stack.push('formula')\n",
    "                    else:\n",
    "                        return False\n",
    "                else:\n",
    "                    stack.push('formula')\n",
    "                    read = True\n",
    "            else:\n",
    "                read = True\n",
    "        else:\n",
    "            read = True\n",
    "        if read:\n",
    "            i = text[cur]\n",
    "            if i in 'xyz':\n",
    "                stack.push('formula')\n",
    "            elif i in '()+-':\n",
    "                stack.push(i)\n",
    "            cur += 1\n",
    "        if cur == len(text) and len(stack) == 1:\n",
    "            break\n",
    "    return True\n",
    "\n",
    "check('((x + y) + (x - y) + z)')"
   ]
  },
  {
   "cell_type": "markdown",
   "id": "727443e4-3e1d-4934-a57e-668e7109f38e",
   "metadata": {},
   "source": [
    "## Вывод\n",
    "\n",
    "В данной лабораторной работе были изучены такие понятия, как \"стек\" и \"дек\", и они были применены к различным задачам."
   ]
  }
 ],
 "metadata": {
  "kernelspec": {
   "display_name": "Python 3",
   "language": "python",
   "name": "python3"
  },
  "language_info": {
   "codemirror_mode": {
    "name": "ipython",
    "version": 3
   },
   "file_extension": ".py",
   "mimetype": "text/x-python",
   "name": "python",
   "nbconvert_exporter": "python",
   "pygments_lexer": "ipython3",
   "version": "3.8.8"
  }
 },
 "nbformat": 4,
 "nbformat_minor": 5
}
